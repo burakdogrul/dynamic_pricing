{
 "cells": [
  {
   "cell_type": "markdown",
   "metadata": {},
   "source": [
    "<h1 align=\"center\">DYNAMIC PRICING IMPLEMENTATION</h1> "
   ]
  },
  {
   "attachments": {
    "static-dynamic-pricing.jpeg": {
     "image/jpeg": "[encoded data removed]"
    }
   },
   "cell_type": "markdown",
   "metadata": {},
   "source": [
    "![static-dynamic-pricing.jpeg](attachment:static-dynamic-pricing.jpeg)\n",
    "\n",
    "A game company gave gift coins to its users for item purchases in a game. Users buy various vehicles for their characters using these virtual coins.The game company did not specify a price for an item and allowed users to buy this item at the price they wanted."
   ]
  },
  {
   "cell_type": "markdown",
   "metadata": {},
   "source": [
    "The data set includes the fees paid to the items in 6 different categories.For example, for the item named \"shield\", users can buy this shield by paying the amounts they see fit.In other words, a user can pay with 30 units of the virtual money, and the other user with 45 units.Therefore, users can buy this item with the amounts they are willing to pay for themselves."
   ]
  },
  {
   "cell_type": "markdown",
   "metadata": {},
   "source": [
    "**Variables**\n",
    "\n",
    "- *Category id*\n",
    "\n",
    "- *Price*"
   ]
  },
  {
   "cell_type": "code",
   "execution_count": 41,
   "metadata": {},
   "outputs": [],
   "source": [
    "#Importing required libraries\n",
    "\n",
    "import numpy as np\n",
    "import pandas as pd\n",
    "from scipy.stats import shapiro, levene, ttest_ind, mannwhitneyu\n",
    "import statsmodels.stats.api as sms\n",
    "from functools import reduce"
   ]
  },
  {
   "cell_type": "code",
   "execution_count": 42,
   "metadata": {},
   "outputs": [],
   "source": [
    "#Pandas set option\n",
    "\n",
    "pd.set_option('display.max_columns', None)\n",
    "pd.set_option('display.expand_frame_repr', False)\n",
    "pd.set_option('display.float_format', lambda x: '%.5f' % x)"
   ]
  },
  {
   "cell_type": "code",
   "execution_count": 43,
   "metadata": {},
   "outputs": [],
   "source": [
    "#Read dataframe and copy\n",
    "\n",
    "dataframe_ = pd.read_csv(\"pricing.csv\", sep=\";\")\n",
    "df = dataframe_.copy()"
   ]
  },
  {
   "cell_type": "code",
   "execution_count": 44,
   "metadata": {},
   "outputs": [],
   "source": [
    "#Function for getting basic information\n",
    "\n",
    "def check_df(dataframe):\n",
    "    print(\"##################### Shape #####################\")\n",
    "    print(dataframe.shape)\n",
    "    print(\"##################### Types #####################\")\n",
    "    print(dataframe.dtypes)\n",
    "    print(\"##################### Head #####################\")\n",
    "    print(dataframe.head())\n",
    "    print(\"##################### Tail #####################\")\n",
    "    print(dataframe.tail())\n",
    "    print(\"##################### NA #####################\")\n",
    "    print(dataframe.isnull().sum())\n",
    "    print(\"##################### Describe #####################\")\n",
    "    print(dataframe.describe().T)"
   ]
  },
  {
   "cell_type": "code",
   "execution_count": 45,
   "metadata": {},
   "outputs": [
    {
     "name": "stdout",
     "output_type": "stream",
     "text": [
      "##################### Shape #####################\n",
      "(3448, 2)\n",
      "##################### Types #####################\n",
      "category_id      int64\n",
      "price          float64\n",
      "dtype: object\n",
      "##################### Head #####################\n",
      "   category_id    price\n",
      "0       489756 32.11775\n",
      "1       361254 30.71137\n",
      "2       361254 31.57261\n",
      "3       489756 34.54384\n",
      "4       489756 47.20582\n",
      "##################### Tail #####################\n",
      "      category_id    price\n",
      "3443       489756 37.61742\n",
      "3444       874521 33.67409\n",
      "3445       489756 58.39922\n",
      "3446       874521 65.72282\n",
      "3447       489756 30.00000\n",
      "##################### NA #####################\n",
      "category_id    0\n",
      "price          0\n",
      "dtype: int64\n",
      "##################### Describe #####################\n",
      "                 count         mean          std          min          25%          50%          75%          max\n",
      "category_id 3448.00000 542415.17198 192805.68991 201436.00000 457630.50000 489756.00000 675201.00000 874521.00000\n",
      "price       3448.00000   3254.47577  25235.79901     10.00000     31.89044     34.79854     41.53621 201436.99126\n"
     ]
    }
   ],
   "source": [
    "check_df(df)"
   ]
  },
  {
   "cell_type": "code",
   "execution_count": 46,
   "metadata": {},
   "outputs": [
    {
     "data": {
      "text/plain": [
       "6"
      ]
     },
     "execution_count": 46,
     "metadata": {},
     "output_type": "execute_result"
    }
   ],
   "source": [
    "#Unique category id\n",
    "\n",
    "df[\"category_id\"].nunique()"
   ]
  },
  {
   "cell_type": "code",
   "execution_count": 47,
   "metadata": {},
   "outputs": [
    {
     "data": {
      "text/plain": [
       "489756    1705\n",
       "874521     750\n",
       "361254     620\n",
       "326584     145\n",
       "675201     131\n",
       "201436      97\n",
       "Name: category_id, dtype: int64"
      ]
     },
     "execution_count": 47,
     "metadata": {},
     "output_type": "execute_result"
    }
   ],
   "source": [
    "#Category id value counts\n",
    "\n",
    "df[\"category_id\"].value_counts()"
   ]
  },
  {
   "cell_type": "code",
   "execution_count": 49,
   "metadata": {},
   "outputs": [
    {
     "data": {
      "text/html": [
       "<div>\n",
       "<style scoped>\n",
       "    .dataframe tbody tr th:only-of-type {\n",
       "        vertical-align: middle;\n",
       "    }\n",
       "\n",
       "    .dataframe tbody tr th {\n",
       "        vertical-align: top;\n",
       "    }\n",
       "\n",
       "    .dataframe thead tr th {\n",
       "        text-align: left;\n",
       "    }\n",
       "\n",
       "    .dataframe thead tr:last-of-type th {\n",
       "        text-align: right;\n",
       "    }\n",
       "</style>\n",
       "<table border=\"1\" class=\"dataframe\">\n",
       "  <thead>\n",
       "    <tr>\n",
       "      <th></th>\n",
       "      <th colspan=\"5\" halign=\"left\">price</th>\n",
       "    </tr>\n",
       "    <tr>\n",
       "      <th></th>\n",
       "      <th>min</th>\n",
       "      <th>mean</th>\n",
       "      <th>median</th>\n",
       "      <th>max</th>\n",
       "      <th>std</th>\n",
       "    </tr>\n",
       "    <tr>\n",
       "      <th>category_id</th>\n",
       "      <th></th>\n",
       "      <th></th>\n",
       "      <th></th>\n",
       "      <th></th>\n",
       "      <th></th>\n",
       "    </tr>\n",
       "  </thead>\n",
       "  <tbody>\n",
       "    <tr>\n",
       "      <th>201436</th>\n",
       "      <td>30.00000</td>\n",
       "      <td>36.17550</td>\n",
       "      <td>33.53468</td>\n",
       "      <td>74.45293</td>\n",
       "      <td>8.90015</td>\n",
       "    </tr>\n",
       "    <tr>\n",
       "      <th>326584</th>\n",
       "      <td>30.00000</td>\n",
       "      <td>1424.66518</td>\n",
       "      <td>31.74824</td>\n",
       "      <td>201436.63483</td>\n",
       "      <td>16725.44215</td>\n",
       "    </tr>\n",
       "    <tr>\n",
       "      <th>361254</th>\n",
       "      <td>30.00000</td>\n",
       "      <td>1659.68066</td>\n",
       "      <td>34.45919</td>\n",
       "      <td>201436.98459</td>\n",
       "      <td>18027.83367</td>\n",
       "    </tr>\n",
       "    <tr>\n",
       "      <th>489756</th>\n",
       "      <td>10.00000</td>\n",
       "      <td>3589.80853</td>\n",
       "      <td>35.63578</td>\n",
       "      <td>201436.98250</td>\n",
       "      <td>26485.60111</td>\n",
       "    </tr>\n",
       "    <tr>\n",
       "      <th>675201</th>\n",
       "      <td>30.00000</td>\n",
       "      <td>3112.24036</td>\n",
       "      <td>33.83557</td>\n",
       "      <td>201436.75501</td>\n",
       "      <td>24789.07311</td>\n",
       "    </tr>\n",
       "    <tr>\n",
       "      <th>874521</th>\n",
       "      <td>10.00000</td>\n",
       "      <td>4605.35726</td>\n",
       "      <td>34.40086</td>\n",
       "      <td>201436.99126</td>\n",
       "      <td>29995.51492</td>\n",
       "    </tr>\n",
       "  </tbody>\n",
       "</table>\n",
       "</div>"
      ],
      "text/plain": [
       "               price                                             \n",
       "                 min       mean   median          max         std\n",
       "category_id                                                      \n",
       "201436      30.00000   36.17550 33.53468     74.45293     8.90015\n",
       "326584      30.00000 1424.66518 31.74824 201436.63483 16725.44215\n",
       "361254      30.00000 1659.68066 34.45919 201436.98459 18027.83367\n",
       "489756      10.00000 3589.80853 35.63578 201436.98250 26485.60111\n",
       "675201      30.00000 3112.24036 33.83557 201436.75501 24789.07311\n",
       "874521      10.00000 4605.35726 34.40086 201436.99126 29995.51492"
      ]
     },
     "execution_count": 49,
     "metadata": {},
     "output_type": "execute_result"
    }
   ],
   "source": [
    "#Price: minimum, mean, median, maximum and standard deviation information for category id\n",
    "\n",
    "df.groupby(\"category_id\").agg({\"price\":[\"min\",\"mean\",\"median\",\"max\",\"std\"]})"
   ]
  },
  {
   "cell_type": "code",
   "execution_count": 50,
   "metadata": {},
   "outputs": [
    {
     "data": {
      "text/plain": [
       "0.00000       10.00000\n",
       "0.01000       30.00000\n",
       "0.10000       30.00000\n",
       "0.20000       31.01339\n",
       "0.25000       31.89044\n",
       "0.30000       32.63567\n",
       "0.40000       33.92032\n",
       "0.50000       34.79854\n",
       "0.60000       35.24933\n",
       "0.70000       37.76832\n",
       "0.75000       41.53621\n",
       "0.80000       45.46119\n",
       "0.90000       62.50561\n",
       "0.95000       92.97822\n",
       "0.96000      108.54245\n",
       "0.97000      135.22997\n",
       "0.98000      206.61101\n",
       "0.99000   201436.46420\n",
       "1.00000   201436.99126\n",
       "Name: price, dtype: float64"
      ]
     },
     "execution_count": 50,
     "metadata": {},
     "output_type": "execute_result"
    }
   ],
   "source": [
    "#Need more information price distribution\n",
    "\n",
    "df[\"price\"].quantile([0,0.01,0.10,0.2,0.25,0.3,0.4,0.5,0.6,0.7,0.75,0.8,0.9,0.95,0.96,0.97,0.98,0.99,1])"
   ]
  },
  {
   "cell_type": "code",
   "execution_count": 51,
   "metadata": {},
   "outputs": [],
   "source": [
    "#Function for removing outliers\n",
    "\n",
    "def remove_outliers(dataframe, variable, low=0.25, up=0.75):\n",
    "    quartile1 = dataframe[variable].quantile(low)\n",
    "    quartile3 = dataframe[variable].quantile(up)\n",
    "    iqr = quartile3 - quartile1\n",
    "    up_limit = quartile3 + 1.5 * iqr\n",
    "    low_limit = quartile1 - 1.5 * iqr\n",
    "    df_remove = dataframe[(dataframe[variable] < low_limit) | (dataframe[variable] > up_limit)]\n",
    "    print(\"Warning!!! There are {} deleted outliers\".format(df_remove.shape[0]))\n",
    "    return dataframe[~dataframe.index.isin(df_remove.index)]"
   ]
  },
  {
   "cell_type": "code",
   "execution_count": 52,
   "metadata": {},
   "outputs": [
    {
     "name": "stdout",
     "output_type": "stream",
     "text": [
      "Warning!!! There are 436 deleted outliers\n"
     ]
    }
   ],
   "source": [
    "#df2 --> deleted outliers dataframe\n",
    "\n",
    "df2 = remove_outliers(df, \"price\")"
   ]
  },
  {
   "cell_type": "code",
   "execution_count": 53,
   "metadata": {},
   "outputs": [
    {
     "name": "stdout",
     "output_type": "stream",
     "text": [
      "##################### Shape #####################\n",
      "(3012, 2)\n",
      "##################### Types #####################\n",
      "category_id      int64\n",
      "price          float64\n",
      "dtype: object\n",
      "##################### Head #####################\n",
      "   category_id    price\n",
      "0       489756 32.11775\n",
      "1       361254 30.71137\n",
      "2       361254 31.57261\n",
      "3       489756 34.54384\n",
      "4       489756 47.20582\n",
      "##################### Tail #####################\n",
      "      category_id    price\n",
      "3441       874521 30.58824\n",
      "3442       874521 34.92884\n",
      "3443       489756 37.61742\n",
      "3444       874521 33.67409\n",
      "3447       489756 30.00000\n",
      "##################### NA #####################\n",
      "category_id    0\n",
      "price          0\n",
      "dtype: int64\n",
      "##################### Describe #####################\n",
      "                 count         mean          std          min          25%          50%          75%          max\n",
      "category_id 3012.00000 538692.00365 194801.85777 201436.00000 361254.00000 489756.00000 675201.00000 874521.00000\n",
      "price       3012.00000     35.48932      5.73596     24.44086     31.38059     34.37463     36.25701     55.97051\n"
     ]
    }
   ],
   "source": [
    "#Checking basic information for df2\n",
    "\n",
    "check_df(df2)"
   ]
  },
  {
   "cell_type": "code",
   "execution_count": 54,
   "metadata": {},
   "outputs": [],
   "source": [
    "#A/B test for each double unique item \n",
    "\n",
    "def test_AB(dataframe, group, target, alpha):\n",
    "\n",
    "    \"\"\"\n",
    "    The function gives A/B test results.\n",
    "    The function compares between the groups by the desired alpha value according to the target variable.\n",
    "\n",
    "    A/B Test Assumptions:\n",
    "    1-Normality\n",
    "    2-Homogeneity\n",
    "\n",
    "    Steps:\n",
    "\n",
    "    Step-1: Prepare the data for A/B testing\n",
    "\n",
    "    Step-2: Define hypothesis\n",
    "\n",
    "    H0: There is no difference between group averages\n",
    "    H1: There is a difference between the group averages\n",
    "\n",
    "    if p-value < alpha HO Reject (There is no statistically significant difference between the means),\n",
    "    otherwise Fail to Reject H0 (There is a statistically significant difference between the means)\n",
    "\n",
    "    Step-3: Check Normality\n",
    "    H0: Distribution is normal\n",
    "    H1: Distribution is not normal\n",
    "\n",
    "    if p-value < alpha HO Reject (The assumption of normal distribution is not provided.),\n",
    "    otherwise Fail to Reject H0 (The assumption of normal distribution is provided.)\n",
    "\n",
    "    Step-4: Check Homogeneity\n",
    "    H0: Variances are equal\n",
    "    H1: variances are not equal\n",
    "\n",
    "    if p-value < alpha HO Reject (The assumption of variance homogeneity is not provided.),\n",
    "    otherwise Fail to Reject H0 (The assumption of variance homogeneity is provided.)\n",
    "\n",
    "    Step-5: Decide which test to do\n",
    "\n",
    "    if distribution is normal and variances are equal, apply independent t test\n",
    "    if distribution is normal but variances are not equal, apply welch test (hint: independet t test, equal_var=False)\n",
    "    if at least one of the pairs is not normally distributed, apply mann whitney-u test.\n",
    "\n",
    "    Step-6: Combine the results\n",
    "\n",
    "    Parameters\n",
    "    ----------\n",
    "    dataframe: dataframe\n",
    "            Variable names are the data to be retrieved.\n",
    "\n",
    "    group: str\n",
    "            Variable name we want to group\n",
    "\n",
    "    target: str\n",
    "            Target variable. Values that we want to measure the difference\n",
    "\n",
    "    alpha: float\n",
    "            Threshold value that we measure p-values against.\n",
    "            Alpha = 1-Confidence Level\n",
    "\n",
    "    Returns\n",
    "    -------\n",
    "    dataframe\n",
    "    (unique item set, test type, hypothesis result, p value, first item mean, second item mean, mean difference)\n",
    "\n",
    "    Examples:\n",
    "    test_AB(df, \"category_id\", \"price\", 0.05)\n",
    "\n",
    "    \"\"\"\n",
    "\n",
    "    #Step-1\n",
    "\n",
    "    temp_list = []\n",
    "    for x in df[group].unique():\n",
    "        for y in df[group].unique():\n",
    "            temp_list.append([x, y])\n",
    "\n",
    "    fset = set(frozenset(x) for x in temp_list)\n",
    "    uniq_list = [list(x) for x in fset if len(x) > 1]\n",
    "\n",
    "    final_df = pd.DataFrame()\n",
    "\n",
    "    #Step-2\n",
    "\n",
    "    #H0: There is no difference between group averages\n",
    "    #H1: There is a difference between the group averages\n",
    "\n",
    "    for i in range(0, len(uniq_list)):\n",
    "        group_A = dataframe[dataframe[group] == uniq_list[i][0]][target]\n",
    "        group_B = dataframe[dataframe[group] == uniq_list[i][1]][target]\n",
    "\n",
    "    #Step-3\n",
    "\n",
    "        normal_A = shapiro(group_A)[1] < alpha\n",
    "        normal_B = shapiro(group_B)[1] < alpha\n",
    "\n",
    "    #Step-4\n",
    "\n",
    "        if (normal_A == False) & (normal_B == False):\n",
    "            levene_ = levene(group_A, group_B)[1] < alpha\n",
    "    #Step-5\n",
    "\n",
    "            if levene_ == False:\n",
    "                p_value = ttest_ind(group_A, group_B, equal_var=True)[1]\n",
    "            else:\n",
    "                p_value = ttest_ind(group_A, group_B, equal_var=False)[1]\n",
    "        else:\n",
    "            p_value = mannwhitneyu(group_A, group_B)[1]\n",
    "\n",
    "    #Step-6\n",
    "\n",
    "        temp_df = pd.DataFrame({\"Hypothesis\": [p_value < alpha],\"p_value\": p_value,\n",
    "                             \"Group_A_Mean\": [group_A.mean()], \"Group_B_Mean\": [group_B.mean()],\n",
    "                             \"Mean_Difference\":[abs(group_A.mean()-group_B.mean())]}, index = [set(uniq_list[i])])\n",
    "\n",
    "        temp_df[\"Hypothesis\"] = np.where(temp_df[\"Hypothesis\"] == False, \"Fail to Reject H0\", \"Reject H0\")\n",
    "        temp_df[\"Test\"] = np.where((normal_A == False) & (normal_B == False), \"Parametric\", \"Non-Parametric\")\n",
    "        final_df = pd.concat([final_df, temp_df[[\"Test\", \"Hypothesis\", \"p_value\",\"Group_A_Mean\",\"Group_B_Mean\",\"Mean_Difference\"]]])\n",
    "    return final_df"
   ]
  },
  {
   "cell_type": "markdown",
   "metadata": {},
   "source": [
    "<h3 align=\"center\">Dataframe With Outliers</h3> "
   ]
  },
  {
   "cell_type": "code",
   "execution_count": 15,
   "metadata": {},
   "outputs": [
    {
     "data": {
      "text/html": [
       "<div>\n",
       "<style scoped>\n",
       "    .dataframe tbody tr th:only-of-type {\n",
       "        vertical-align: middle;\n",
       "    }\n",
       "\n",
       "    .dataframe tbody tr th {\n",
       "        vertical-align: top;\n",
       "    }\n",
       "\n",
       "    .dataframe thead th {\n",
       "        text-align: right;\n",
       "    }\n",
       "</style>\n",
       "<table border=\"1\" class=\"dataframe\">\n",
       "  <thead>\n",
       "    <tr style=\"text-align: right;\">\n",
       "      <th></th>\n",
       "      <th>Test</th>\n",
       "      <th>Hypothesis</th>\n",
       "      <th>p_value</th>\n",
       "      <th>Group_A_Mean</th>\n",
       "      <th>Group_B_Mean</th>\n",
       "      <th>Mean_Difference</th>\n",
       "    </tr>\n",
       "  </thead>\n",
       "  <tbody>\n",
       "    <tr>\n",
       "      <th>{675201, 361254}</th>\n",
       "      <td>Non-Parametric</td>\n",
       "      <td>Fail to Reject H0</td>\n",
       "      <td>0.32506</td>\n",
       "      <td>3112.24036</td>\n",
       "      <td>1659.68066</td>\n",
       "      <td>1452.55970</td>\n",
       "    </tr>\n",
       "    <tr>\n",
       "      <th>{874521, 675201}</th>\n",
       "      <td>Non-Parametric</td>\n",
       "      <td>Fail to Reject H0</td>\n",
       "      <td>0.27625</td>\n",
       "      <td>4605.35726</td>\n",
       "      <td>3112.24036</td>\n",
       "      <td>1493.11690</td>\n",
       "    </tr>\n",
       "    <tr>\n",
       "      <th>{675201, 201436}</th>\n",
       "      <td>Non-Parametric</td>\n",
       "      <td>Fail to Reject H0</td>\n",
       "      <td>0.31852</td>\n",
       "      <td>3112.24036</td>\n",
       "      <td>36.17550</td>\n",
       "      <td>3076.06486</td>\n",
       "    </tr>\n",
       "    <tr>\n",
       "      <th>{874521, 201436}</th>\n",
       "      <td>Non-Parametric</td>\n",
       "      <td>Fail to Reject H0</td>\n",
       "      <td>0.14784</td>\n",
       "      <td>4605.35726</td>\n",
       "      <td>36.17550</td>\n",
       "      <td>4569.18176</td>\n",
       "    </tr>\n",
       "    <tr>\n",
       "      <th>{201436, 361254}</th>\n",
       "      <td>Non-Parametric</td>\n",
       "      <td>Fail to Reject H0</td>\n",
       "      <td>0.48664</td>\n",
       "      <td>36.17550</td>\n",
       "      <td>1659.68066</td>\n",
       "      <td>1623.50516</td>\n",
       "    </tr>\n",
       "    <tr>\n",
       "      <th>{326584, 361254}</th>\n",
       "      <td>Non-Parametric</td>\n",
       "      <td>Reject H0</td>\n",
       "      <td>0.00000</td>\n",
       "      <td>1424.66518</td>\n",
       "      <td>1659.68066</td>\n",
       "      <td>235.01548</td>\n",
       "    </tr>\n",
       "    <tr>\n",
       "      <th>{326584, 201436}</th>\n",
       "      <td>Non-Parametric</td>\n",
       "      <td>Reject H0</td>\n",
       "      <td>0.00051</td>\n",
       "      <td>1424.66518</td>\n",
       "      <td>36.17550</td>\n",
       "      <td>1388.48968</td>\n",
       "    </tr>\n",
       "    <tr>\n",
       "      <th>{201436, 489756}</th>\n",
       "      <td>Non-Parametric</td>\n",
       "      <td>Reject H0</td>\n",
       "      <td>0.00000</td>\n",
       "      <td>36.17550</td>\n",
       "      <td>3589.80853</td>\n",
       "      <td>3553.63303</td>\n",
       "    </tr>\n",
       "    <tr>\n",
       "      <th>{874521, 489756}</th>\n",
       "      <td>Non-Parametric</td>\n",
       "      <td>Reject H0</td>\n",
       "      <td>0.00000</td>\n",
       "      <td>4605.35726</td>\n",
       "      <td>3589.80853</td>\n",
       "      <td>1015.54873</td>\n",
       "    </tr>\n",
       "    <tr>\n",
       "      <th>{326584, 489756}</th>\n",
       "      <td>Non-Parametric</td>\n",
       "      <td>Reject H0</td>\n",
       "      <td>0.00000</td>\n",
       "      <td>1424.66518</td>\n",
       "      <td>3589.80853</td>\n",
       "      <td>2165.14334</td>\n",
       "    </tr>\n",
       "    <tr>\n",
       "      <th>{326584, 675201}</th>\n",
       "      <td>Non-Parametric</td>\n",
       "      <td>Reject H0</td>\n",
       "      <td>0.00005</td>\n",
       "      <td>1424.66518</td>\n",
       "      <td>3112.24036</td>\n",
       "      <td>1687.57518</td>\n",
       "    </tr>\n",
       "    <tr>\n",
       "      <th>{675201, 489756}</th>\n",
       "      <td>Non-Parametric</td>\n",
       "      <td>Reject H0</td>\n",
       "      <td>0.00001</td>\n",
       "      <td>3112.24036</td>\n",
       "      <td>3589.80853</td>\n",
       "      <td>477.56816</td>\n",
       "    </tr>\n",
       "    <tr>\n",
       "      <th>{326584, 874521}</th>\n",
       "      <td>Non-Parametric</td>\n",
       "      <td>Reject H0</td>\n",
       "      <td>0.00000</td>\n",
       "      <td>1424.66518</td>\n",
       "      <td>4605.35726</td>\n",
       "      <td>3180.69208</td>\n",
       "    </tr>\n",
       "    <tr>\n",
       "      <th>{489756, 361254}</th>\n",
       "      <td>Non-Parametric</td>\n",
       "      <td>Reject H0</td>\n",
       "      <td>0.00000</td>\n",
       "      <td>3589.80853</td>\n",
       "      <td>1659.68066</td>\n",
       "      <td>1930.12786</td>\n",
       "    </tr>\n",
       "    <tr>\n",
       "      <th>{874521, 361254}</th>\n",
       "      <td>Non-Parametric</td>\n",
       "      <td>Reject H0</td>\n",
       "      <td>0.02421</td>\n",
       "      <td>4605.35726</td>\n",
       "      <td>1659.68066</td>\n",
       "      <td>2945.67660</td>\n",
       "    </tr>\n",
       "  </tbody>\n",
       "</table>\n",
       "</div>"
      ],
      "text/plain": [
       "                            Test         Hypothesis  p_value  Group_A_Mean  Group_B_Mean  Mean_Difference\n",
       "{675201, 361254}  Non-Parametric  Fail to Reject H0  0.32506    3112.24036    1659.68066       1452.55970\n",
       "{874521, 675201}  Non-Parametric  Fail to Reject H0  0.27625    4605.35726    3112.24036       1493.11690\n",
       "{675201, 201436}  Non-Parametric  Fail to Reject H0  0.31852    3112.24036      36.17550       3076.06486\n",
       "{874521, 201436}  Non-Parametric  Fail to Reject H0  0.14784    4605.35726      36.17550       4569.18176\n",
       "{201436, 361254}  Non-Parametric  Fail to Reject H0  0.48664      36.17550    1659.68066       1623.50516\n",
       "{326584, 361254}  Non-Parametric          Reject H0  0.00000    1424.66518    1659.68066        235.01548\n",
       "{326584, 201436}  Non-Parametric          Reject H0  0.00051    1424.66518      36.17550       1388.48968\n",
       "{201436, 489756}  Non-Parametric          Reject H0  0.00000      36.17550    3589.80853       3553.63303\n",
       "{874521, 489756}  Non-Parametric          Reject H0  0.00000    4605.35726    3589.80853       1015.54873\n",
       "{326584, 489756}  Non-Parametric          Reject H0  0.00000    1424.66518    3589.80853       2165.14334\n",
       "{326584, 675201}  Non-Parametric          Reject H0  0.00005    1424.66518    3112.24036       1687.57518\n",
       "{675201, 489756}  Non-Parametric          Reject H0  0.00001    3112.24036    3589.80853        477.56816\n",
       "{326584, 874521}  Non-Parametric          Reject H0  0.00000    1424.66518    4605.35726       3180.69208\n",
       "{489756, 361254}  Non-Parametric          Reject H0  0.00000    3589.80853    1659.68066       1930.12786\n",
       "{874521, 361254}  Non-Parametric          Reject H0  0.02421    4605.35726    1659.68066       2945.67660"
      ]
     },
     "execution_count": 15,
     "metadata": {},
     "output_type": "execute_result"
    }
   ],
   "source": [
    "#A/B test for include outliers dataframe\n",
    "\n",
    "tested_with_outliers = test_AB(df, \"category_id\", \"price\", 0.05)\n",
    "tested_with_outliers.sort_values(by=\"Hypothesis\")"
   ]
  },
  {
   "cell_type": "code",
   "execution_count": 55,
   "metadata": {},
   "outputs": [
    {
     "data": {
      "text/plain": [
       "0     {326584, 361254}\n",
       "2     {326584, 201436}\n",
       "3     {201436, 489756}\n",
       "4     {874521, 489756}\n",
       "5     {326584, 489756}\n",
       "6     {326584, 675201}\n",
       "7     {675201, 489756}\n",
       "10    {326584, 874521}\n",
       "12    {489756, 361254}\n",
       "14    {874521, 361254}\n",
       "Name: index, dtype: object"
      ]
     },
     "execution_count": 55,
     "metadata": {},
     "output_type": "execute_result"
    }
   ],
   "source": [
    "#Item sets that there is a difference between means (for df)\n",
    "\n",
    "tested_with_outliers.reset_index(inplace=True)\n",
    "tested_with_outliers.loc[tested_with_outliers[\"Hypothesis\"] == \"Reject H0\", \"index\"]"
   ]
  },
  {
   "cell_type": "code",
   "execution_count": 56,
   "metadata": {},
   "outputs": [
    {
     "data": {
      "text/plain": [
       "1     {675201, 361254}\n",
       "8     {874521, 675201}\n",
       "9     {675201, 201436}\n",
       "11    {874521, 201436}\n",
       "13    {201436, 361254}\n",
       "Name: index, dtype: object"
      ]
     },
     "execution_count": 56,
     "metadata": {},
     "output_type": "execute_result"
    }
   ],
   "source": [
    "#Item sets that there is no difference between means (for df)\n",
    "\n",
    "tested_with_outliers.loc[tested_with_outliers[\"Hypothesis\"] == \"Fail to Reject H0\", \"index\"]"
   ]
  },
  {
   "cell_type": "markdown",
   "metadata": {},
   "source": [
    "<h3 align=\"center\">Dataframe Without Outliers</h3> "
   ]
  },
  {
   "cell_type": "code",
   "execution_count": 18,
   "metadata": {},
   "outputs": [
    {
     "data": {
      "text/html": [
       "<div>\n",
       "<style scoped>\n",
       "    .dataframe tbody tr th:only-of-type {\n",
       "        vertical-align: middle;\n",
       "    }\n",
       "\n",
       "    .dataframe tbody tr th {\n",
       "        vertical-align: top;\n",
       "    }\n",
       "\n",
       "    .dataframe thead th {\n",
       "        text-align: right;\n",
       "    }\n",
       "</style>\n",
       "<table border=\"1\" class=\"dataframe\">\n",
       "  <thead>\n",
       "    <tr style=\"text-align: right;\">\n",
       "      <th></th>\n",
       "      <th>Test</th>\n",
       "      <th>Hypothesis</th>\n",
       "      <th>p_value</th>\n",
       "      <th>Group_A_Mean</th>\n",
       "      <th>Group_B_Mean</th>\n",
       "      <th>Mean_Difference</th>\n",
       "    </tr>\n",
       "  </thead>\n",
       "  <tbody>\n",
       "    <tr>\n",
       "      <th>{675201, 361254}</th>\n",
       "      <td>Non-Parametric</td>\n",
       "      <td>Fail to Reject H0</td>\n",
       "      <td>0.40565</td>\n",
       "      <td>35.11418</td>\n",
       "      <td>34.17376</td>\n",
       "      <td>0.94042</td>\n",
       "    </tr>\n",
       "    <tr>\n",
       "      <th>{874521, 675201}</th>\n",
       "      <td>Non-Parametric</td>\n",
       "      <td>Fail to Reject H0</td>\n",
       "      <td>0.45753</td>\n",
       "      <td>34.58983</td>\n",
       "      <td>35.11418</td>\n",
       "      <td>0.52436</td>\n",
       "    </tr>\n",
       "    <tr>\n",
       "      <th>{675201, 201436}</th>\n",
       "      <td>Non-Parametric</td>\n",
       "      <td>Fail to Reject H0</td>\n",
       "      <td>0.44145</td>\n",
       "      <td>35.11418</td>\n",
       "      <td>34.39449</td>\n",
       "      <td>0.71970</td>\n",
       "    </tr>\n",
       "    <tr>\n",
       "      <th>{874521, 201436}</th>\n",
       "      <td>Non-Parametric</td>\n",
       "      <td>Fail to Reject H0</td>\n",
       "      <td>0.48536</td>\n",
       "      <td>34.58983</td>\n",
       "      <td>34.39449</td>\n",
       "      <td>0.19534</td>\n",
       "    </tr>\n",
       "    <tr>\n",
       "      <th>{201436, 361254}</th>\n",
       "      <td>Non-Parametric</td>\n",
       "      <td>Fail to Reject H0</td>\n",
       "      <td>0.43270</td>\n",
       "      <td>34.39449</td>\n",
       "      <td>34.17376</td>\n",
       "      <td>0.22073</td>\n",
       "    </tr>\n",
       "    <tr>\n",
       "      <th>{874521, 361254}</th>\n",
       "      <td>Non-Parametric</td>\n",
       "      <td>Fail to Reject H0</td>\n",
       "      <td>0.32752</td>\n",
       "      <td>34.58983</td>\n",
       "      <td>34.17376</td>\n",
       "      <td>0.41606</td>\n",
       "    </tr>\n",
       "    <tr>\n",
       "      <th>{326584, 361254}</th>\n",
       "      <td>Non-Parametric</td>\n",
       "      <td>Reject H0</td>\n",
       "      <td>0.00000</td>\n",
       "      <td>32.98714</td>\n",
       "      <td>34.17376</td>\n",
       "      <td>1.18663</td>\n",
       "    </tr>\n",
       "    <tr>\n",
       "      <th>{326584, 201436}</th>\n",
       "      <td>Non-Parametric</td>\n",
       "      <td>Reject H0</td>\n",
       "      <td>0.00005</td>\n",
       "      <td>32.98714</td>\n",
       "      <td>34.39449</td>\n",
       "      <td>1.40735</td>\n",
       "    </tr>\n",
       "    <tr>\n",
       "      <th>{201436, 489756}</th>\n",
       "      <td>Non-Parametric</td>\n",
       "      <td>Reject H0</td>\n",
       "      <td>0.00077</td>\n",
       "      <td>34.39449</td>\n",
       "      <td>36.79585</td>\n",
       "      <td>2.40136</td>\n",
       "    </tr>\n",
       "    <tr>\n",
       "      <th>{874521, 489756}</th>\n",
       "      <td>Non-Parametric</td>\n",
       "      <td>Reject H0</td>\n",
       "      <td>0.00000</td>\n",
       "      <td>34.58983</td>\n",
       "      <td>36.79585</td>\n",
       "      <td>2.20602</td>\n",
       "    </tr>\n",
       "    <tr>\n",
       "      <th>{326584, 489756}</th>\n",
       "      <td>Non-Parametric</td>\n",
       "      <td>Reject H0</td>\n",
       "      <td>0.00000</td>\n",
       "      <td>32.98714</td>\n",
       "      <td>36.79585</td>\n",
       "      <td>3.80871</td>\n",
       "    </tr>\n",
       "    <tr>\n",
       "      <th>{326584, 675201}</th>\n",
       "      <td>Non-Parametric</td>\n",
       "      <td>Reject H0</td>\n",
       "      <td>0.00001</td>\n",
       "      <td>32.98714</td>\n",
       "      <td>35.11418</td>\n",
       "      <td>2.12705</td>\n",
       "    </tr>\n",
       "    <tr>\n",
       "      <th>{675201, 489756}</th>\n",
       "      <td>Non-Parametric</td>\n",
       "      <td>Reject H0</td>\n",
       "      <td>0.00078</td>\n",
       "      <td>35.11418</td>\n",
       "      <td>36.79585</td>\n",
       "      <td>1.68166</td>\n",
       "    </tr>\n",
       "    <tr>\n",
       "      <th>{326584, 874521}</th>\n",
       "      <td>Non-Parametric</td>\n",
       "      <td>Reject H0</td>\n",
       "      <td>0.00000</td>\n",
       "      <td>32.98714</td>\n",
       "      <td>34.58983</td>\n",
       "      <td>1.60269</td>\n",
       "    </tr>\n",
       "    <tr>\n",
       "      <th>{489756, 361254}</th>\n",
       "      <td>Non-Parametric</td>\n",
       "      <td>Reject H0</td>\n",
       "      <td>0.00000</td>\n",
       "      <td>36.79585</td>\n",
       "      <td>34.17376</td>\n",
       "      <td>2.62209</td>\n",
       "    </tr>\n",
       "  </tbody>\n",
       "</table>\n",
       "</div>"
      ],
      "text/plain": [
       "                            Test         Hypothesis  p_value  Group_A_Mean  Group_B_Mean  Mean_Difference\n",
       "{675201, 361254}  Non-Parametric  Fail to Reject H0  0.40565      35.11418      34.17376          0.94042\n",
       "{874521, 675201}  Non-Parametric  Fail to Reject H0  0.45753      34.58983      35.11418          0.52436\n",
       "{675201, 201436}  Non-Parametric  Fail to Reject H0  0.44145      35.11418      34.39449          0.71970\n",
       "{874521, 201436}  Non-Parametric  Fail to Reject H0  0.48536      34.58983      34.39449          0.19534\n",
       "{201436, 361254}  Non-Parametric  Fail to Reject H0  0.43270      34.39449      34.17376          0.22073\n",
       "{874521, 361254}  Non-Parametric  Fail to Reject H0  0.32752      34.58983      34.17376          0.41606\n",
       "{326584, 361254}  Non-Parametric          Reject H0  0.00000      32.98714      34.17376          1.18663\n",
       "{326584, 201436}  Non-Parametric          Reject H0  0.00005      32.98714      34.39449          1.40735\n",
       "{201436, 489756}  Non-Parametric          Reject H0  0.00077      34.39449      36.79585          2.40136\n",
       "{874521, 489756}  Non-Parametric          Reject H0  0.00000      34.58983      36.79585          2.20602\n",
       "{326584, 489756}  Non-Parametric          Reject H0  0.00000      32.98714      36.79585          3.80871\n",
       "{326584, 675201}  Non-Parametric          Reject H0  0.00001      32.98714      35.11418          2.12705\n",
       "{675201, 489756}  Non-Parametric          Reject H0  0.00078      35.11418      36.79585          1.68166\n",
       "{326584, 874521}  Non-Parametric          Reject H0  0.00000      32.98714      34.58983          1.60269\n",
       "{489756, 361254}  Non-Parametric          Reject H0  0.00000      36.79585      34.17376          2.62209"
      ]
     },
     "execution_count": 18,
     "metadata": {},
     "output_type": "execute_result"
    }
   ],
   "source": [
    "#A/B test for dataframe without outliers \n",
    "\n",
    "tested_without_outliers = test_AB(df2, \"category_id\", \"price\", 0.05)\n",
    "tested_without_outliers.sort_values(by=\"Hypothesis\")"
   ]
  },
  {
   "cell_type": "code",
   "execution_count": 19,
   "metadata": {},
   "outputs": [
    {
     "data": {
      "text/plain": [
       "0     {326584, 361254}\n",
       "2     {326584, 201436}\n",
       "3     {201436, 489756}\n",
       "4     {874521, 489756}\n",
       "5     {326584, 489756}\n",
       "6     {326584, 675201}\n",
       "7     {675201, 489756}\n",
       "10    {326584, 874521}\n",
       "12    {489756, 361254}\n",
       "Name: index, dtype: object"
      ]
     },
     "execution_count": 19,
     "metadata": {},
     "output_type": "execute_result"
    }
   ],
   "source": [
    "#Item sets that there is a difference between means (for df2)\n",
    "\n",
    "tested_without_outliers.reset_index(inplace=True)\n",
    "tested_without_outliers.loc[tested_without_outliers[\"Hypothesis\"] == \"Reject H0\", \"index\"]"
   ]
  },
  {
   "cell_type": "code",
   "execution_count": 57,
   "metadata": {},
   "outputs": [
    {
     "data": {
      "text/plain": [
       "1     {675201, 361254}\n",
       "8     {874521, 675201}\n",
       "9     {675201, 201436}\n",
       "11    {874521, 201436}\n",
       "13    {201436, 361254}\n",
       "14    {874521, 361254}\n",
       "Name: index, dtype: object"
      ]
     },
     "execution_count": 57,
     "metadata": {},
     "output_type": "execute_result"
    }
   ],
   "source": [
    "#Item sets that there is no difference between means (for df2)\n",
    "\n",
    "tested_without_outliers.loc[tested_without_outliers[\"Hypothesis\"] == \"Fail to Reject H0\", \"index\"]"
   ]
  },
  {
   "cell_type": "markdown",
   "metadata": {},
   "source": [
    "**The test results with and without outliers gave very similar result but I will use non-outlier dataframe to avoid misleading results**"
   ]
  },
  {
   "cell_type": "code",
   "execution_count": 21,
   "metadata": {},
   "outputs": [],
   "source": [
    "#tested_without_outliers  *** Fail to Reject H0 so there is no difference between means ***\n",
    "#     {675201, 361254}\n",
    "#     {874521, 675201}\n",
    "#     {675201, 201436}\n",
    "#     {874521, 201436}\n",
    "#     {201436, 361254}\n",
    "#     {874521, 361254}\n",
    "\n",
    "# Unique category id\n",
    "\n",
    "similar = [201436,361254,675201,874521]"
   ]
  },
  {
   "cell_type": "code",
   "execution_count": 58,
   "metadata": {},
   "outputs": [],
   "source": [
    "#tested_without_outliers *** Reject H0 so there is a difference between means **\n",
    "#     {326584, 361254}\n",
    "#     {326584, 201436}\n",
    "#     {201436, 489756}\n",
    "#     {874521, 489756}\n",
    "#     {326584, 489756}\n",
    "#     {326584, 675201}\n",
    "#     {675201, 489756}\n",
    "#     {326584, 874521}\n",
    "#     {489756, 361254}\n",
    "\n",
    "#Unique category id except similar ids\n",
    "\n",
    "not_similar = [326584,489756]"
   ]
  },
  {
   "cell_type": "code",
   "execution_count": 59,
   "metadata": {},
   "outputs": [],
   "source": [
    "#All unique category id\n",
    "all_list = [201436,361254,675201,874521,326584,489756]"
   ]
  },
  {
   "cell_type": "code",
   "execution_count": 60,
   "metadata": {},
   "outputs": [],
   "source": [
    "#Item price determination function\n",
    "#for constant price: if similar use mean of groups mean, if not similar use mean of groups median\n",
    "#for flexible price: if similar, not similar and all use low and high value for 95% confidence, mean of groups mean, mean of groups median\n",
    "#all price for just observing\n",
    "\n",
    "def item_price(dataframe,type=\"all\",con_price=True):\n",
    "    sum = 0\n",
    "    price = []\n",
    "    if con_price:\n",
    "        if type == \"similar\":\n",
    "            for i in similar:\n",
    "                sum += dataframe.loc[dataframe[\"category_id\"] == i, \"price\"].mean()\n",
    "            price = sum/len(similar)\n",
    "            return price\n",
    "        elif type == \"not_similar\":\n",
    "            for i in not_similar:\n",
    "                sum += dataframe.loc[dataframe[\"category_id\"] == i, \"price\"].median()\n",
    "            price = sum/len(not_similar)\n",
    "            return price\n",
    "        elif type == \"all\":\n",
    "            for i in similar:\n",
    "                sum += dataframe.loc[dataframe[\"category_id\"] == i, \"price\"].mean()\n",
    "            for j in not_similar:\n",
    "                sum += dataframe.loc[dataframe[\"category_id\"] == j, \"price\"].median()\n",
    "            price = sum/len(all_list)\n",
    "            return np.mean(price)\n",
    "    else:\n",
    "        if type == \"similar\":\n",
    "            for i in similar:\n",
    "                for j in dataframe.loc[dataframe[\"category_id\"] == i, \"price\"]:\n",
    "                    price.append(j)\n",
    "            range = sms.DescrStatsW(price).tconfint_mean()\n",
    "            mean = np.mean(price)\n",
    "            median = np.median(price)\n",
    "            print(f\"Price mean range with 95% confidence between {'%.4f' % range[0]} and {'%.4f' % range[1]} \\nMean: {'%.4f' % mean} \\nMedian: {'%.4f' % median}\")\n",
    "\n",
    "        elif type == \"not_similar\":\n",
    "            for i in not_similar:\n",
    "                for j in dataframe.loc[dataframe[\"category_id\"] == i, \"price\"]:\n",
    "                    price.append(j)\n",
    "            range = sms.DescrStatsW(price).tconfint_mean()\n",
    "            mean = np.mean(price)\n",
    "            median = np.median(price)\n",
    "            print(f\"Price mean range with 95% confidence between {'%.4f' % range[0]} and {'%.4f' % range[1]} \\nMean: {'%.4f' % mean} \\nMedian: {'%.4f' % median}\")\n",
    "\n",
    "        elif type == \"all\":\n",
    "            for i in all_list:\n",
    "                for j in dataframe.loc[dataframe[\"category_id\"] == i, \"price\"]:\n",
    "                    price.append(j)\n",
    "            range = sms.DescrStatsW(price).tconfint_mean()\n",
    "            mean = np.mean(price)\n",
    "            median = np.median(price)\n",
    "            print(f\"Price mean range with 95% confidence between {'%.4f' % range[0]} and {'%.4f' % range[1]} \\nMean: {'%.4f' % mean} \\nMedian: {'%.4f' % median}\")\n",
    "\n",
    "        return [range, mean, median]"
   ]
  },
  {
   "cell_type": "code",
   "execution_count": 61,
   "metadata": {},
   "outputs": [
    {
     "data": {
      "text/plain": [
       "[34.07031675454481]"
      ]
     },
     "execution_count": 61,
     "metadata": {},
     "output_type": "execute_result"
    }
   ],
   "source": [
    "#constant price for all unique category id\n",
    "\n",
    "all_con = [item_price(df2,type=\"all\",con_price=True)]\n",
    "all_con"
   ]
  },
  {
   "cell_type": "code",
   "execution_count": 62,
   "metadata": {},
   "outputs": [
    {
     "data": {
      "text/plain": [
       "[34.56806450964221]"
      ]
     },
     "execution_count": 62,
     "metadata": {},
     "output_type": "execute_result"
    }
   ],
   "source": [
    "#constant price for all unique similar category id\n",
    "\n",
    "similar_con = [item_price(df2,type=\"similar\",con_price=True)]\n",
    "similar_con"
   ]
  },
  {
   "cell_type": "code",
   "execution_count": 63,
   "metadata": {},
   "outputs": [
    {
     "data": {
      "text/plain": [
       "[33.07482124435]"
      ]
     },
     "execution_count": 63,
     "metadata": {},
     "output_type": "execute_result"
    }
   ],
   "source": [
    "#constant price for all unique not similar category id\n",
    "\n",
    "not_similar_con = [item_price(df2,type=\"not_similar\",con_price=True)]\n",
    "not_similar_con"
   ]
  },
  {
   "cell_type": "code",
   "execution_count": 64,
   "metadata": {},
   "outputs": [
    {
     "name": "stdout",
     "output_type": "stream",
     "text": [
      "Price mean range with 95% confidence between 35.2844 and 35.6942 \n",
      "Mean: 35.4893 \n",
      "Median: 34.3746\n"
     ]
    },
    {
     "data": {
      "text/plain": [
       "[(35.2843928251852, 35.69424852825349), 35.489320676719345, 34.3746272319]"
      ]
     },
     "execution_count": 64,
     "metadata": {},
     "output_type": "execute_result"
    }
   ],
   "source": [
    "#flexible price for all unique category id\n",
    "\n",
    "all_flex =item_price(df2,type=\"all\",con_price=False)\n",
    "all_flex"
   ]
  },
  {
   "cell_type": "code",
   "execution_count": 65,
   "metadata": {},
   "outputs": [
    {
     "name": "stdout",
     "output_type": "stream",
     "text": [
      "Price mean range with 95% confidence between 34.2142 and 34.6879 \n",
      "Mean: 34.4510 \n",
      "Median: 33.9971\n"
     ]
    },
    {
     "data": {
      "text/plain": [
       "[(34.21418057578277, 34.6878859740201), 34.451033274901434, 33.9971315093]"
      ]
     },
     "execution_count": 65,
     "metadata": {},
     "output_type": "execute_result"
    }
   ],
   "source": [
    "#flexible price for all unique similar category id\n",
    "\n",
    "similar_flex = item_price(df2,type=\"similar\",con_price=False)\n",
    "similar_flex"
   ]
  },
  {
   "cell_type": "code",
   "execution_count": 66,
   "metadata": {},
   "outputs": [
    {
     "name": "stdout",
     "output_type": "stream",
     "text": [
      "Price mean range with 95% confidence between 36.1426 and 36.7869 \n",
      "Mean: 36.4648 \n",
      "Median: 34.6856\n"
     ]
    },
    {
     "data": {
      "text/plain": [
       "[(36.142643449221254, 36.78688176674456), 36.464762607982905, 34.6856245818]"
      ]
     },
     "execution_count": 66,
     "metadata": {},
     "output_type": "execute_result"
    }
   ],
   "source": [
    "#flexible price for all unique not similar category id\n",
    "\n",
    "not_similar_flex = item_price(df2,type=\"not_similar\",con_price=False)\n",
    "not_similar_flex"
   ]
  },
  {
   "cell_type": "code",
   "execution_count": 67,
   "metadata": {},
   "outputs": [],
   "source": [
    "#The function for capturing part from within categories\n",
    "\n",
    "def namestr(obj, namespace):\n",
    "    return [name for name in namespace if namespace[name] is obj]"
   ]
  },
  {
   "cell_type": "code",
   "execution_count": 33,
   "metadata": {},
   "outputs": [],
   "source": [
    "#The function for price simulation\n",
    "# For constant price: to find income use constant price\n",
    "# For flexible price: to find income use low confidence value, high confidence value, mean and median\n",
    "\n",
    "def price_simulation(dataframe,data, method):\n",
    "    if \"con\" in str(namestr(data,globals())):\n",
    "        if method == \"all\":\n",
    "            freq = len(dataframe[dataframe[\"price\"] >= data[0]])\n",
    "            income = freq * data[0]\n",
    "            return income\n",
    "    else:\n",
    "        if method == \"low_conf\":\n",
    "            freq = len(dataframe[dataframe[\"price\"] >= data[0][0]])\n",
    "            income = freq * data[0][0]\n",
    "            return income\n",
    "\n",
    "        if method == \"high_conf\":\n",
    "            freq = len(dataframe[dataframe[\"price\"] >= data[0][1]])\n",
    "            income = freq * data[0][1]\n",
    "            return income\n",
    "\n",
    "        if method == \"mean\":\n",
    "            freq = len(dataframe[dataframe[\"price\"] >= data[1]])\n",
    "            income = freq * data[1]\n",
    "            return income\n",
    "\n",
    "        if method == \"median\":\n",
    "            freq = len(dataframe[dataframe[\"price\"] >= data[2]])\n",
    "            income = freq * data[2]\n",
    "            return income"
   ]
  },
  {
   "cell_type": "code",
   "execution_count": 68,
   "metadata": {},
   "outputs": [
    {
     "data": {
      "text/html": [
       "<div>\n",
       "<style scoped>\n",
       "    .dataframe tbody tr th:only-of-type {\n",
       "        vertical-align: middle;\n",
       "    }\n",
       "\n",
       "    .dataframe tbody tr th {\n",
       "        vertical-align: top;\n",
       "    }\n",
       "\n",
       "    .dataframe thead th {\n",
       "        text-align: right;\n",
       "    }\n",
       "</style>\n",
       "<table border=\"1\" class=\"dataframe\">\n",
       "  <thead>\n",
       "    <tr style=\"text-align: right;\">\n",
       "      <th></th>\n",
       "      <th>data</th>\n",
       "      <th>constant_flexible</th>\n",
       "      <th>method</th>\n",
       "      <th>Income</th>\n",
       "    </tr>\n",
       "  </thead>\n",
       "  <tbody>\n",
       "    <tr>\n",
       "      <th>2</th>\n",
       "      <td>not_similar_group</td>\n",
       "      <td>constant</td>\n",
       "      <td>all</td>\n",
       "      <td>61221.49412</td>\n",
       "    </tr>\n",
       "    <tr>\n",
       "      <th>10</th>\n",
       "      <td>similar_group</td>\n",
       "      <td>flexible</td>\n",
       "      <td>median</td>\n",
       "      <td>55109.35018</td>\n",
       "    </tr>\n",
       "    <tr>\n",
       "      <th>0</th>\n",
       "      <td>all_data</td>\n",
       "      <td>constant</td>\n",
       "      <td>all</td>\n",
       "      <td>54376.22554</td>\n",
       "    </tr>\n",
       "    <tr>\n",
       "      <th>7</th>\n",
       "      <td>similar_group</td>\n",
       "      <td>flexible</td>\n",
       "      <td>low_conf</td>\n",
       "      <td>53203.05080</td>\n",
       "    </tr>\n",
       "    <tr>\n",
       "      <th>6</th>\n",
       "      <td>all_data</td>\n",
       "      <td>flexible</td>\n",
       "      <td>median</td>\n",
       "      <td>51768.18861</td>\n",
       "    </tr>\n",
       "    <tr>\n",
       "      <th>9</th>\n",
       "      <td>similar_group</td>\n",
       "      <td>flexible</td>\n",
       "      <td>mean</td>\n",
       "      <td>50918.62718</td>\n",
       "    </tr>\n",
       "    <tr>\n",
       "      <th>1</th>\n",
       "      <td>similar_group</td>\n",
       "      <td>constant</td>\n",
       "      <td>all</td>\n",
       "      <td>49190.35580</td>\n",
       "    </tr>\n",
       "    <tr>\n",
       "      <th>14</th>\n",
       "      <td>not_similar_group</td>\n",
       "      <td>flexible</td>\n",
       "      <td>median</td>\n",
       "      <td>47623.36255</td>\n",
       "    </tr>\n",
       "    <tr>\n",
       "      <th>8</th>\n",
       "      <td>similar_group</td>\n",
       "      <td>flexible</td>\n",
       "      <td>high_conf</td>\n",
       "      <td>47591.77956</td>\n",
       "    </tr>\n",
       "    <tr>\n",
       "      <th>3</th>\n",
       "      <td>all_data</td>\n",
       "      <td>flexible</td>\n",
       "      <td>low_conf</td>\n",
       "      <td>33308.46683</td>\n",
       "    </tr>\n",
       "    <tr>\n",
       "      <th>5</th>\n",
       "      <td>all_data</td>\n",
       "      <td>flexible</td>\n",
       "      <td>mean</td>\n",
       "      <td>31550.00608</td>\n",
       "    </tr>\n",
       "    <tr>\n",
       "      <th>4</th>\n",
       "      <td>all_data</td>\n",
       "      <td>flexible</td>\n",
       "      <td>high_conf</td>\n",
       "      <td>30411.49975</td>\n",
       "    </tr>\n",
       "    <tr>\n",
       "      <th>11</th>\n",
       "      <td>not_similar_group</td>\n",
       "      <td>flexible</td>\n",
       "      <td>low_conf</td>\n",
       "      <td>27612.97960</td>\n",
       "    </tr>\n",
       "    <tr>\n",
       "      <th>13</th>\n",
       "      <td>not_similar_group</td>\n",
       "      <td>flexible</td>\n",
       "      <td>mean</td>\n",
       "      <td>26509.88242</td>\n",
       "    </tr>\n",
       "    <tr>\n",
       "      <th>12</th>\n",
       "      <td>not_similar_group</td>\n",
       "      <td>flexible</td>\n",
       "      <td>high_conf</td>\n",
       "      <td>25382.94842</td>\n",
       "    </tr>\n",
       "  </tbody>\n",
       "</table>\n",
       "</div>"
      ],
      "text/plain": [
       "                 data constant_flexible     method      Income\n",
       "2   not_similar_group          constant        all 61221.49412\n",
       "10      similar_group          flexible     median 55109.35018\n",
       "0            all_data          constant        all 54376.22554\n",
       "7       similar_group          flexible   low_conf 53203.05080\n",
       "6            all_data          flexible     median 51768.18861\n",
       "9       similar_group          flexible       mean 50918.62718\n",
       "1       similar_group          constant        all 49190.35580\n",
       "14  not_similar_group          flexible     median 47623.36255\n",
       "8       similar_group          flexible  high_conf 47591.77956\n",
       "3            all_data          flexible   low_conf 33308.46683\n",
       "5            all_data          flexible       mean 31550.00608\n",
       "4            all_data          flexible  high_conf 30411.49975\n",
       "11  not_similar_group          flexible   low_conf 27612.97960\n",
       "13  not_similar_group          flexible       mean 26509.88242\n",
       "12  not_similar_group          flexible  high_conf 25382.94842"
      ]
     },
     "execution_count": 68,
     "metadata": {},
     "output_type": "execute_result"
    }
   ],
   "source": [
    "#There are 15 scenario: 3 for constant price, 12 for flexible price\n",
    "#Use functions and convert to dataframe. Finally merge dataframes\n",
    "\n",
    "\n",
    "all_con_price = pd.DataFrame([\"all_data\",\"constant\",\"all\",price_simulation(df2, all_con, \"all\")],index=[\"data\",\"constant_flexible\",\"method\",\"Income\"]).T\n",
    "similar_con_price = pd.DataFrame([\"similar_group\",\"constant\",\"all\",price_simulation(df2, similar_con, \"all\")],index=[\"data\",\"constant_flexible\",\"method\",\"Income\"]).T\n",
    "not_similar_con_price = pd.DataFrame([\"not_similar_group\",\"constant\",\"all\",price_simulation(df2, not_similar_con, \"all\")],index=[\"data\",\"constant_flexible\",\"method\",\"Income\"]).T\n",
    "\n",
    "all_flex_low_conf = pd.DataFrame([\"all_data\",\"flexible\",\"low_conf\",price_simulation(df2, all_flex, \"low_conf\")],index=[\"data\",\"constant_flexible\",\"method\",\"Income\"]).T\n",
    "all_flex_high_conf = pd.DataFrame([\"all_data\",\"flexible\",\"high_conf\",price_simulation(df2, all_flex, \"high_conf\")],index=[\"data\",\"constant_flexible\",\"method\",\"Income\"]).T\n",
    "all_flex_mean = pd.DataFrame([\"all_data\",\"flexible\",\"mean\",price_simulation(df2, all_flex, \"mean\")],index=[\"data\",\"constant_flexible\",\"method\",\"Income\"]).T\n",
    "all_flex_median= pd.DataFrame([\"all_data\",\"flexible\",\"median\",price_simulation(df2, all_flex, \"median\")],index=[\"data\",\"constant_flexible\",\"method\",\"Income\"]).T\n",
    "\n",
    "similar_flex_low_conf = pd.DataFrame([\"similar_group\",\"flexible\",\"low_conf\",price_simulation(df2, similar_flex, \"low_conf\")] ,index=[\"data\",\"constant_flexible\",\"method\",\"Income\"]).T\n",
    "similar_flex_high_conf = pd.DataFrame([\"similar_group\",\"flexible\",\"high_conf\",price_simulation(df2, similar_flex, \"high_conf\")] ,index=[\"data\",\"constant_flexible\",\"method\",\"Income\"]).T\n",
    "similar_flex_mean = pd.DataFrame([\"similar_group\",\"flexible\",\"mean\",price_simulation(df2, similar_flex, \"mean\")] ,index=[\"data\",\"constant_flexible\",\"method\",\"Income\"]).T\n",
    "similar_flex_median = pd.DataFrame([\"similar_group\",\"flexible\",\"median\",price_simulation(df2, similar_flex, \"median\")] ,index=[\"data\",\"constant_flexible\",\"method\",\"Income\"]).T\n",
    "\n",
    "not_similar_flex_low_conf = pd.DataFrame([\"not_similar_group\",\"flexible\",\"low_conf\",price_simulation(df2, not_similar_flex, \"low_conf\")],index=[\"data\",\"constant_flexible\",\"method\",\"Income\"]).T\n",
    "not_similar_flex_high_conf = pd.DataFrame([\"not_similar_group\",\"flexible\",\"high_conf\",price_simulation(df2, not_similar_flex, \"high_conf\")],index=[\"data\",\"constant_flexible\",\"method\",\"Income\"]).T\n",
    "not_similar_flex_mean = pd.DataFrame([\"not_similar_group\",\"flexible\",\"mean\",price_simulation(df2, not_similar_flex, \"mean\")],index=[\"data\",\"constant_flexible\",\"method\",\"Income\"]).T\n",
    "not_similar_flex_median= pd.DataFrame([\"not_similar_group\",\"flexible\",\"median\",price_simulation(df2, not_similar_flex, \"median\")],index=[\"data\",\"constant_flexible\",\"method\",\"Income\"]).T\n",
    "\n",
    "merging = [all_con_price,similar_con_price,not_similar_con_price,all_flex_low_conf,all_flex_high_conf,all_flex_mean,all_flex_median,similar_flex_low_conf,similar_flex_high_conf,similar_flex_mean,similar_flex_median,not_similar_flex_low_conf,not_similar_flex_high_conf,not_similar_flex_mean,not_similar_flex_median]\n",
    "\n",
    "\n",
    "df_merged = reduce(lambda  left,right: pd.merge(left,right, how='outer'), merging)\n",
    "df_merged.sort_values(by=\"Income\", ascending=False)"
   ]
  },
  {
   "cell_type": "code",
   "execution_count": 35,
   "metadata": {},
   "outputs": [
    {
     "data": {
      "text/html": [
       "<div>\n",
       "<style scoped>\n",
       "    .dataframe tbody tr th:only-of-type {\n",
       "        vertical-align: middle;\n",
       "    }\n",
       "\n",
       "    .dataframe tbody tr th {\n",
       "        vertical-align: top;\n",
       "    }\n",
       "\n",
       "    .dataframe thead th {\n",
       "        text-align: right;\n",
       "    }\n",
       "</style>\n",
       "<table border=\"1\" class=\"dataframe\">\n",
       "  <thead>\n",
       "    <tr style=\"text-align: right;\">\n",
       "      <th></th>\n",
       "      <th>data</th>\n",
       "      <th>constant_flexible</th>\n",
       "      <th>method</th>\n",
       "      <th>Income</th>\n",
       "    </tr>\n",
       "  </thead>\n",
       "  <tbody>\n",
       "    <tr>\n",
       "      <th>2</th>\n",
       "      <td>not_similar_group</td>\n",
       "      <td>constant</td>\n",
       "      <td>all</td>\n",
       "      <td>61221.49412</td>\n",
       "    </tr>\n",
       "    <tr>\n",
       "      <th>14</th>\n",
       "      <td>not_similar_group</td>\n",
       "      <td>flexible</td>\n",
       "      <td>median</td>\n",
       "      <td>47623.36255</td>\n",
       "    </tr>\n",
       "    <tr>\n",
       "      <th>11</th>\n",
       "      <td>not_similar_group</td>\n",
       "      <td>flexible</td>\n",
       "      <td>low_conf</td>\n",
       "      <td>27612.97960</td>\n",
       "    </tr>\n",
       "    <tr>\n",
       "      <th>13</th>\n",
       "      <td>not_similar_group</td>\n",
       "      <td>flexible</td>\n",
       "      <td>mean</td>\n",
       "      <td>26509.88242</td>\n",
       "    </tr>\n",
       "    <tr>\n",
       "      <th>12</th>\n",
       "      <td>not_similar_group</td>\n",
       "      <td>flexible</td>\n",
       "      <td>high_conf</td>\n",
       "      <td>25382.94842</td>\n",
       "    </tr>\n",
       "  </tbody>\n",
       "</table>\n",
       "</div>"
      ],
      "text/plain": [
       "                 data constant_flexible     method      Income\n",
       "2   not_similar_group          constant        all 61221.49412\n",
       "14  not_similar_group          flexible     median 47623.36255\n",
       "11  not_similar_group          flexible   low_conf 27612.97960\n",
       "13  not_similar_group          flexible       mean 26509.88242\n",
       "12  not_similar_group          flexible  high_conf 25382.94842"
      ]
     },
     "execution_count": 35,
     "metadata": {},
     "output_type": "execute_result"
    }
   ],
   "source": [
    "#Not similar group expected income table\n",
    "#Fixed price should be used for non similar groups\n",
    "\n",
    "df_merged[(df_merged[\"data\"]==\"not_similar_group\") ].sort_values(by=\"Income\", ascending=False)"
   ]
  },
  {
   "cell_type": "code",
   "execution_count": 36,
   "metadata": {},
   "outputs": [
    {
     "data": {
      "text/html": [
       "<div>\n",
       "<style scoped>\n",
       "    .dataframe tbody tr th:only-of-type {\n",
       "        vertical-align: middle;\n",
       "    }\n",
       "\n",
       "    .dataframe tbody tr th {\n",
       "        vertical-align: top;\n",
       "    }\n",
       "\n",
       "    .dataframe thead th {\n",
       "        text-align: right;\n",
       "    }\n",
       "</style>\n",
       "<table border=\"1\" class=\"dataframe\">\n",
       "  <thead>\n",
       "    <tr style=\"text-align: right;\">\n",
       "      <th></th>\n",
       "      <th>data</th>\n",
       "      <th>constant_flexible</th>\n",
       "      <th>method</th>\n",
       "      <th>Income</th>\n",
       "    </tr>\n",
       "  </thead>\n",
       "  <tbody>\n",
       "    <tr>\n",
       "      <th>10</th>\n",
       "      <td>similar_group</td>\n",
       "      <td>flexible</td>\n",
       "      <td>median</td>\n",
       "      <td>55109.35018</td>\n",
       "    </tr>\n",
       "    <tr>\n",
       "      <th>7</th>\n",
       "      <td>similar_group</td>\n",
       "      <td>flexible</td>\n",
       "      <td>low_conf</td>\n",
       "      <td>53203.05080</td>\n",
       "    </tr>\n",
       "    <tr>\n",
       "      <th>9</th>\n",
       "      <td>similar_group</td>\n",
       "      <td>flexible</td>\n",
       "      <td>mean</td>\n",
       "      <td>50918.62718</td>\n",
       "    </tr>\n",
       "    <tr>\n",
       "      <th>1</th>\n",
       "      <td>similar_group</td>\n",
       "      <td>constant</td>\n",
       "      <td>all</td>\n",
       "      <td>49190.35580</td>\n",
       "    </tr>\n",
       "    <tr>\n",
       "      <th>8</th>\n",
       "      <td>similar_group</td>\n",
       "      <td>flexible</td>\n",
       "      <td>high_conf</td>\n",
       "      <td>47591.77956</td>\n",
       "    </tr>\n",
       "  </tbody>\n",
       "</table>\n",
       "</div>"
      ],
      "text/plain": [
       "             data constant_flexible     method      Income\n",
       "10  similar_group          flexible     median 55109.35018\n",
       "7   similar_group          flexible   low_conf 53203.05080\n",
       "9   similar_group          flexible       mean 50918.62718\n",
       "1   similar_group          constant        all 49190.35580\n",
       "8   similar_group          flexible  high_conf 47591.77956"
      ]
     },
     "execution_count": 36,
     "metadata": {},
     "output_type": "execute_result"
    }
   ],
   "source": [
    "#Similar group expected income table\n",
    "#The median method provides the highest income for similar group but the low confidence method is more secure and provides the 2nd highest income.\n",
    "\n",
    "df_merged[(df_merged[\"data\"]==\"similar_group\")].sort_values(by=\"Income\", ascending=False)"
   ]
  },
  {
   "cell_type": "code",
   "execution_count": 69,
   "metadata": {},
   "outputs": [
    {
     "data": {
      "text/html": [
       "<div>\n",
       "<style scoped>\n",
       "    .dataframe tbody tr th:only-of-type {\n",
       "        vertical-align: middle;\n",
       "    }\n",
       "\n",
       "    .dataframe tbody tr th {\n",
       "        vertical-align: top;\n",
       "    }\n",
       "\n",
       "    .dataframe thead th {\n",
       "        text-align: right;\n",
       "    }\n",
       "</style>\n",
       "<table border=\"1\" class=\"dataframe\">\n",
       "  <thead>\n",
       "    <tr style=\"text-align: right;\">\n",
       "      <th></th>\n",
       "      <th>data</th>\n",
       "      <th>constant_flexible</th>\n",
       "      <th>method</th>\n",
       "      <th>Income</th>\n",
       "    </tr>\n",
       "  </thead>\n",
       "  <tbody>\n",
       "    <tr>\n",
       "      <th>0</th>\n",
       "      <td>all_data</td>\n",
       "      <td>constant</td>\n",
       "      <td>all</td>\n",
       "      <td>54376.22554</td>\n",
       "    </tr>\n",
       "    <tr>\n",
       "      <th>6</th>\n",
       "      <td>all_data</td>\n",
       "      <td>flexible</td>\n",
       "      <td>median</td>\n",
       "      <td>51768.18861</td>\n",
       "    </tr>\n",
       "    <tr>\n",
       "      <th>3</th>\n",
       "      <td>all_data</td>\n",
       "      <td>flexible</td>\n",
       "      <td>low_conf</td>\n",
       "      <td>33308.46683</td>\n",
       "    </tr>\n",
       "    <tr>\n",
       "      <th>5</th>\n",
       "      <td>all_data</td>\n",
       "      <td>flexible</td>\n",
       "      <td>mean</td>\n",
       "      <td>31550.00608</td>\n",
       "    </tr>\n",
       "    <tr>\n",
       "      <th>4</th>\n",
       "      <td>all_data</td>\n",
       "      <td>flexible</td>\n",
       "      <td>high_conf</td>\n",
       "      <td>30411.49975</td>\n",
       "    </tr>\n",
       "  </tbody>\n",
       "</table>\n",
       "</div>"
      ],
      "text/plain": [
       "       data constant_flexible     method      Income\n",
       "0  all_data          constant        all 54376.22554\n",
       "6  all_data          flexible     median 51768.18861\n",
       "3  all_data          flexible   low_conf 33308.46683\n",
       "5  all_data          flexible       mean 31550.00608\n",
       "4  all_data          flexible  high_conf 30411.49975"
      ]
     },
     "execution_count": 69,
     "metadata": {},
     "output_type": "execute_result"
    }
   ],
   "source": [
    "#Just for observing\n",
    "\n",
    "df_merged[(df_merged[\"data\"]==\"all_data\") ].sort_values(by=\"Income\", ascending=False)"
   ]
  },
  {
   "cell_type": "markdown",
   "metadata": {},
   "source": [
    "<h2 align=\"center\">Conclusion</h2> "
   ]
  },
  {
   "cell_type": "markdown",
   "metadata": {},
   "source": [
    "### Best Scenario (but risky)"
   ]
  },
  {
   "cell_type": "markdown",
   "metadata": {},
   "source": [
    "*If we use constant price method for non similar groups and flexieble median price method for similar groups, expected max income:*"
   ]
  },
  {
   "cell_type": "code",
   "execution_count": 70,
   "metadata": {},
   "outputs": [
    {
     "data": {
      "text/plain": [
       "116330.84429986714"
      ]
     },
     "execution_count": 70,
     "metadata": {},
     "output_type": "execute_result"
    }
   ],
   "source": [
    "df_merged[(df_merged[\"data\"]==\"not_similar_group\")][\"Income\"].max() + df_merged[(df_merged[\"data\"]==\"similar_group\")][\"Income\"].max()"
   ]
  },
  {
   "cell_type": "markdown",
   "metadata": {},
   "source": [
    "*Real income:*"
   ]
  },
  {
   "cell_type": "code",
   "execution_count": 71,
   "metadata": {},
   "outputs": [
    {
     "data": {
      "text/plain": [
       "106893.83387827866"
      ]
     },
     "execution_count": 71,
     "metadata": {},
     "output_type": "execute_result"
    }
   ],
   "source": [
    "df2[\"price\"].sum()"
   ]
  },
  {
   "cell_type": "code",
   "execution_count": 95,
   "metadata": {},
   "outputs": [
    {
     "name": "stdout",
     "output_type": "stream",
     "text": [
      "If we use constant price method for non similar group and flexieble median price method for similar group\n",
      "expected profit will be 9437.010 unit\n",
      "expected profit percentage 8.828 % \n"
     ]
    }
   ],
   "source": [
    "expected_max_income = df_merged[(df_merged[\"data\"]==\"not_similar_group\")][\"Income\"].max() + df_merged[(df_merged[\"data\"]==\"similar_group\")][\"Income\"].max()\n",
    "real_income = df2[\"price\"].sum()\n",
    "profit= expected_max_income-real_income\n",
    "profitperc = ((expected_max_income-real_income)/real_income)\n",
    "print(f\"If we use constant price method for non similar group and flexieble median price method for similar group\\nexpected profit will be {'%.3f' %profit} unit\\nexpected profit percentage {'%.3f' %(profitperc*100)} % \")"
   ]
  },
  {
   "cell_type": "markdown",
   "metadata": {},
   "source": [
    "### 2nd Best Scenario (Secure)"
   ]
  },
  {
   "cell_type": "markdown",
   "metadata": {},
   "source": [
    "*If we use constant price method for non similar groups and flexieble low confidence price method for similar groups, expected income:*"
   ]
  },
  {
   "cell_type": "code",
   "execution_count": 92,
   "metadata": {},
   "outputs": [
    {
     "data": {
      "text/plain": [
       "114424.54491863406"
      ]
     },
     "execution_count": 92,
     "metadata": {},
     "output_type": "execute_result"
    }
   ],
   "source": [
    "df_merged[(df_merged[\"data\"]==\"not_similar_group\")][\"Income\"].max() + df_merged[(df_merged[\"data\"]==\"similar_group\") & (df_merged[\"method\"]==\"low_conf\")][\"Income\"].values[0]"
   ]
  },
  {
   "cell_type": "code",
   "execution_count": 94,
   "metadata": {},
   "outputs": [
    {
     "name": "stdout",
     "output_type": "stream",
     "text": [
      "If we use constant price method for non similar groups and flexieble median price method for similar groups\n",
      "expected profit will be 7530.711 unit\n",
      "expected profit percentage 7.045 % \n"
     ]
    }
   ],
   "source": [
    "expected_max_income = df_merged[(df_merged[\"data\"]==\"not_similar_group\")][\"Income\"].max() + df_merged[(df_merged[\"data\"]==\"similar_group\") & (df_merged[\"method\"]==\"low_conf\")][\"Income\"].values[0]\n",
    "real_income = df2[\"price\"].sum()\n",
    "profit= expected_max_income-real_income\n",
    "profitperc = ((expected_max_income-real_income)/real_income)\n",
    "print(f\"If we use constant price method for non similar groups and flexieble median price method for similar groups\\nexpected profit will be {'%.3f' %profit} unit\\nexpected profit percentage {'%.3f' %(profitperc*100)} % \")"
   ]
  },
  {
   "cell_type": "code",
   "execution_count": null,
   "metadata": {},
   "outputs": [],
   "source": []
  }
 ],
 "metadata": {
  "kernelspec": {
   "display_name": "Python 3",
   "language": "python",
   "name": "python3"
  },
  "language_info": {
   "codemirror_mode": {
    "name": "ipython",
    "version": 3
   },
   "file_extension": ".py",
   "mimetype": "text/x-python",
   "name": "python",
   "nbconvert_exporter": "python",
   "pygments_lexer": "ipython3",
   "version": "3.8.5"
  }
 },
 "nbformat": 4,
 "nbformat_minor": 4
}
